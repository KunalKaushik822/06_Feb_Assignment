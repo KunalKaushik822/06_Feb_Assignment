{
 "cells": [
  {
   "cell_type": "code",
   "execution_count": 6,
   "id": "1c165b38-6818-4841-98d7-e45203962b36",
   "metadata": {},
   "outputs": [
    {
     "data": {
      "text/plain": [
       "'list1 = [1,2,3,4, [44,55,66, True], False, (34,56,78,89,34), {1,2,3,3,2,1}, {1:34, \"key2\": [55, 67, 78, 89], 4: (45,\\n22, 61, 34)}, [56, \\'data science\\'], \\'Machine Learning\\']'"
      ]
     },
     "execution_count": 6,
     "metadata": {},
     "output_type": "execute_result"
    }
   ],
   "source": [
    "#Q1. Create a function which will take a list as an argument and return the product of the numbers after creating a flat list.\n",
    "# Use below list as an argument for your function.\n",
    "\n",
    "\"\"\"list1 = [1,2,3,4, [44,55,66, True], False, (34,56,78,89,34), {1,2,3,3,2,1}, {1:34, \"key2\": [55, 67, 78, 89], 4: (45,\n",
    "22, 61, 34)}, [56, 'data science'], 'Machine Learning']\"\"\"\n",
    "\n",
    "#Note: you must extract numeric keys and values of the following dictionary also."
   ]
  },
  {
   "cell_type": "code",
   "execution_count": 14,
   "id": "903a417c-fd06-477e-8ba2-78c1a0e47ab1",
   "metadata": {},
   "outputs": [
    {
     "name": "stdout",
     "output_type": "stream",
     "text": [
      "Product of all numbers in the flattened list: 0\n"
     ]
    }
   ],
   "source": [
    "def flatten_and_multiply(lst):\n",
    "    flat_list = []\n",
    "\n",
    "    def flatten_recursive(sublist):\n",
    "        for item in sublist:\n",
    "            if isinstance(item, (list, tuple)):\n",
    "                flatten_recursive(item)\n",
    "            elif isinstance(item, dict):\n",
    "                flatten_recursive(item.values())\n",
    "                flatten_recursive(item.keys())\n",
    "            elif isinstance(item, (int, float)):\n",
    "                flat_list.append(item)\n",
    "\n",
    "    flatten_recursive(lst)\n",
    "\n",
    "    product = 1\n",
    "    for num in flat_list:\n",
    "        product *= num\n",
    "\n",
    "    return product\n",
    "\n",
    "# Example usage:\n",
    "list1 = [1, 2, 3, 4, [44, 55, 66, True], False, (34, 56, 78, 89, 34), {1, 2, 3, 3, 2, 1},\n",
    "         {1: 34, \"key2\": [55, 67, 78, 89], 4: (45, 22, 61, 34)}, [56, 'data science'], 'Machine Learning']\n",
    "\n",
    "result = flatten_and_multiply(list1)\n",
    "print(\"Product of all numbers in the flattened list:\", result)\n"
   ]
  },
  {
   "cell_type": "code",
   "execution_count": 15,
   "id": "d59bd4cd-3dc0-4df9-b85b-e170940cd981",
   "metadata": {},
   "outputs": [
    {
     "data": {
      "text/plain": [
       "'Q2. Write a python program for encrypting a message sent to you by your friend. The logic of the encryption should be such that, for a the output should be z. For b, the output should be y. For c, the output should be x respectively. Also, the whitespace should be replaced with a dollar sign. Keep the punctuation marks unchanged.\\nInput Sentence: I want to become a Data Scientist.\\nEncrypt the above input sentence using the program you jus created.'"
      ]
     },
     "execution_count": 15,
     "metadata": {},
     "output_type": "execute_result"
    }
   ],
   "source": [
    "\"\"\"Q2. Write a python program for encrypting a message sent to you by your friend. The logic of the encryption should be such that, for a the output should be z. For b, the output should be y. For c, the output should be x respectively. Also, the whitespace should be replaced with a dollar sign. Keep the punctuation marks unchanged.\n",
    "Input Sentence: I want to become a Data Scientist.\n",
    "Encrypt the above input sentence using the program you jus created.\"\"\""
   ]
  },
  {
   "cell_type": "code",
   "execution_count": 20,
   "id": "549bd7c2-949c-4dd9-9361-9f0d40194db8",
   "metadata": {},
   "outputs": [
    {
     "data": {
      "text/plain": [
       "False"
      ]
     },
     "execution_count": 20,
     "metadata": {},
     "output_type": "execute_result"
    }
   ],
   "source": [
    "'a' == 'z' \n",
    "'b' == 'y'\n",
    "'c' == 'x'\n",
    "\" \" == '$'"
   ]
  },
  {
   "cell_type": "code",
   "execution_count": 42,
   "id": "8a692957-5669-460a-95d6-5fd1c8116a25",
   "metadata": {},
   "outputs": [
    {
     "name": "stdout",
     "output_type": "stream",
     "text": [
      "Input Sentence: I want to become a Data Scientist.\n",
      "Encrypted Message: r$dzmg$gl$yvxlnv$z$wzgz$hxrvmgrhg.\n"
     ]
    }
   ],
   "source": [
    "def encrypt_message(message):\n",
    "    encrypted_message = \"\"\n",
    "\n",
    "    for char in message:\n",
    "        if char.isalpha():\n",
    "            # Encrypt letters\n",
    "            encrypted_char = chr(ord('a') + (ord('z') - ord(char)))\n",
    "        elif char.isspace():\n",
    "            # Replace whitespace with a dollar sign\n",
    "            encrypted_char = '$'\n",
    "        else:\n",
    "            # Keep punctuation marks unchanged\n",
    "            encrypted_char = char\n",
    "\n",
    "        encrypted_message += encrypted_char\n",
    "\n",
    "    return encrypted_message\n",
    "\n",
    "# Input Sentence\n",
    "input_sentence = \"I want to become a Data Scientist.\"\n",
    "\n",
    "# Convert the input to lowercase\n",
    "input_sentence_lower = input_sentence.lower()\n",
    "\n",
    "# Encrypt the message\n",
    "encrypted_result = encrypt_message(input_sentence_lower)\n",
    "\n",
    "# Display the results\n",
    "print(\"Input Sentence:\", input_sentence)\n",
    "print(\"Encrypted Message:\", encrypted_result)\n"
   ]
  },
  {
   "cell_type": "code",
   "execution_count": null,
   "id": "37229d72-ae6e-4df9-9019-b27bf70093d6",
   "metadata": {},
   "outputs": [],
   "source": []
  }
 ],
 "metadata": {
  "kernelspec": {
   "display_name": "Python 3 (ipykernel)",
   "language": "python",
   "name": "python3"
  },
  "language_info": {
   "codemirror_mode": {
    "name": "ipython",
    "version": 3
   },
   "file_extension": ".py",
   "mimetype": "text/x-python",
   "name": "python",
   "nbconvert_exporter": "python",
   "pygments_lexer": "ipython3",
   "version": "3.10.8"
  }
 },
 "nbformat": 4,
 "nbformat_minor": 5
}
